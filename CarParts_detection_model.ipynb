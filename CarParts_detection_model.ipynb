{
  "nbformat": 4,
  "nbformat_minor": 0,
  "metadata": {
    "colab": {
      "name": "Untitled2.ipynb",
      "provenance": [],
      "include_colab_link": true
    },
    "kernelspec": {
      "name": "python3",
      "display_name": "Python 3"
    }
  },
  "cells": [
    {
      "cell_type": "markdown",
      "metadata": {
        "id": "view-in-github",
        "colab_type": "text"
      },
      "source": [
        "<a href=\"https://colab.research.google.com/github/ecsquare/Detection-car-exterior-components/blob/master/CarParts_detection_model.ipynb\" target=\"_parent\"><img src=\"https://colab.research.google.com/assets/colab-badge.svg\" alt=\"Open In Colab\"/></a>"
      ]
    },
    {
      "cell_type": "code",
      "metadata": {
        "id": "CyVbgsDViVo3",
        "colab_type": "code",
        "outputId": "1edb6d39-8526-4586-860e-c373c4aba5cc",
        "colab": {
          "base_uri": "https://localhost:8080/",
          "height": 124
        }
      },
      "source": [
        "from google.colab import drive\n",
        "drive.mount('/content/gdrive')"
      ],
      "execution_count": 2,
      "outputs": [
        {
          "output_type": "stream",
          "text": [
            "Go to this URL in a browser: https://accounts.google.com/o/oauth2/auth?client_id=947318989803-6bn6qk8qdgf4n4g3pfee6491hc0brc4i.apps.googleusercontent.com&redirect_uri=urn%3aietf%3awg%3aoauth%3a2.0%3aoob&response_type=code&scope=email%20https%3a%2f%2fwww.googleapis.com%2fauth%2fdocs.test%20https%3a%2f%2fwww.googleapis.com%2fauth%2fdrive%20https%3a%2f%2fwww.googleapis.com%2fauth%2fdrive.photos.readonly%20https%3a%2f%2fwww.googleapis.com%2fauth%2fpeopleapi.readonly\n",
            "\n",
            "Enter your authorization code:\n",
            "··········\n",
            "Mounted at /content/gdrive\n"
          ],
          "name": "stdout"
        }
      ]
    },
    {
      "cell_type": "code",
      "metadata": {
        "id": "Hixw-7fCkNL3",
        "colab_type": "code",
        "colab": {}
      },
      "source": [
        ""
      ],
      "execution_count": 0,
      "outputs": []
    },
    {
      "cell_type": "code",
      "metadata": {
        "id": "2ntRPHnyrcmW",
        "colab_type": "code",
        "colab": {}
      },
      "source": [
        "! ls /content/gdrive/My\\ Drive/Colab\\ Notebooks/"
      ],
      "execution_count": 0,
      "outputs": []
    },
    {
      "cell_type": "code",
      "metadata": {
        "id": "cF8-xSHst5p_",
        "colab_type": "code",
        "colab": {}
      },
      "source": [
        "import pandas as pd "
      ],
      "execution_count": 0,
      "outputs": []
    },
    {
      "cell_type": "code",
      "metadata": {
        "id": "ijojjFIas1DN",
        "colab_type": "code",
        "colab": {}
      },
      "source": [
        "train=pd.read_csv('/content/gdrive/My Drive/Colab Notebooks/train.csv')"
      ],
      "execution_count": 0,
      "outputs": []
    },
    {
      "cell_type": "code",
      "metadata": {
        "id": "dStnp7H6uczP",
        "colab_type": "code",
        "outputId": "56ac1966-e261-4636-cf09-4d9f861f4357",
        "colab": {
          "base_uri": "https://localhost:8080/",
          "height": 104
        }
      },
      "source": [
        "train.columns"
      ],
      "execution_count": 15,
      "outputs": [
        {
          "output_type": "execute_result",
          "data": {
            "text/plain": [
              "Index(['ID', 'DataRow ID', 'Labeled Data', 'Label', 'Created By',\n",
              "       'Project Name', 'Created At', 'Updated At', 'Seconds to Label',\n",
              "       'External ID', 'Agreement', 'Benchmark Agreement', 'Benchmark ID',\n",
              "       'Benchmark Reference ID', 'Dataset Name', 'Reviews', 'View Label'],\n",
              "      dtype='object')"
            ]
          },
          "metadata": {
            "tags": []
          },
          "execution_count": 15
        }
      ]
    },
    {
      "cell_type": "code",
      "metadata": {
        "id": "wZ1rWNRm8QkB",
        "colab_type": "code",
        "colab": {}
      },
      "source": [
        "def class_text_to_int(row_label):\n",
        "    if row_label == 'Front Bumper':\n",
        "        return 1\n",
        "    elif row_label == 'Rear Bumper':\n",
        "        return 2\n",
        "    elif row_label == 'LT Fender':\n",
        "        return 3\n",
        "    elif row_label == 'RT Fender':\n",
        "        return 4\n",
        "    elif row_label == 'LT Quarter Panel':\n",
        "        return 5\n",
        "    elif row_label == 'RT Quarter Panel':\n",
        "        return 6\n",
        "    elif row_label == 'LT Headlight':\n",
        "        return 7\n",
        "    elif row_label == 'RT Headlight':\n",
        "        return 8\n",
        "    elif row_label == 'LT Taillight':\n",
        "        return 9\n",
        "    elif row_label == 'RT Taillight':\n",
        "        return 10\n",
        "    elif row_label == 'LT Front Door':\n",
        "        return 11\n",
        "    elif row_label == 'RT Front Door':\n",
        "        return 12\n",
        "    elif row_label == 'LT Rear Door':\n",
        "        return 13\n",
        "    elif row_label == 'RT Rear Door':\n",
        "        return 14\n",
        "    elif row_label == 'Hood':\n",
        "        return 15\n",
        "    elif row_label == 'Trunk':\n",
        "        return 16\n",
        "    elif row_label == 'Grill':\n",
        "        return 17\n",
        "    elif row_label == 'Windshield':\n",
        "        return 18\n",
        "    elif row_label == 'Mirror':\n",
        "        return 19\n",
        "    elif row_label == 'Wheel':\n",
        "        return 20\n",
        "    else:\n",
        "        print(row_label)\n",
        "        None"
      ],
      "execution_count": 0,
      "outputs": []
    },
    {
      "cell_type": "code",
      "metadata": {
        "id": "7xEl0JWyu6dQ",
        "colab_type": "code",
        "outputId": "a391b0d3-567b-4e1f-fcda-2a29dd353191",
        "colab": {
          "base_uri": "https://localhost:8080/",
          "height": 34
        }
      },
      "source": [
        "label=train['Label']\n",
        "n=label.shape[0]\n",
        "annotations = []\n",
        "ids = []\n",
        "for i in range(n):\n",
        "\n"
      ],
      "execution_count": 23,
      "outputs": [
        {
          "output_type": "execute_result",
          "data": {
            "text/plain": [
              "29"
            ]
          },
          "metadata": {
            "tags": []
          },
          "execution_count": 23
        }
      ]
    },
    {
      "cell_type": "code",
      "metadata": {
        "id": "fK7nx_Ns3Urd",
        "colab_type": "code",
        "colab": {}
      },
      "source": [
        "from __future__ import absolute_import, division, print_function, unicode_literals\n",
        "\n",
        "import os\n",
        "\n",
        "import numpy as np\n",
        "\n",
        "import matplotlib.pyplot as plt"
      ],
      "execution_count": 0,
      "outputs": []
    },
    {
      "cell_type": "code",
      "metadata": {
        "id": "E7zUIX6XkPtB",
        "colab_type": "code",
        "colab": {
          "base_uri": "https://localhost:8080/",
          "height": 34
        },
        "outputId": "700c1236-5ef1-4262-caff-ca6a962eeb0c"
      },
      "source": [
        "try:\n",
        "  # %tensorflow_version only exists in Colab.\n",
        "  %tensorflow_version 2.x\n",
        "except Exception:\n",
        "  pass\n",
        "import tensorflow as tf\n",
        "\n",
        "keras = tf.keras"
      ],
      "execution_count": 4,
      "outputs": [
        {
          "output_type": "stream",
          "text": [
            "TensorFlow 2.x selected.\n"
          ],
          "name": "stdout"
        }
      ]
    },
    {
      "cell_type": "code",
      "metadata": {
        "id": "I2T1B5ZpkWNI",
        "colab_type": "code",
        "colab": {}
      },
      "source": [
        "#Data preparation\n",
        "def format_annotations(annotation_path, trainable_classes_path):\n",
        "annotations = []\n",
        "ids = []\n",
        "with open(trainable_classes_path, 'rb') as file:\n",
        "trainable_classes = file.read().split('\\n')\n",
        "\n",
        "with open(annotation_path, 'rb') as annofile:\n",
        "for row in csv.reader(annofile):\n",
        "annotation = {'id': row[0], 'label': row[2], 'confidence': row[3], 'x0': row[4],\n",
        "'x1': row[5], 'y0': row[6], 'y1': row[7]}\n",
        "if anno['label'] in trainable_classes:\n",
        "annotations.append(annotation)\n",
        "ids.append(row[0])\n",
        "ids = dedupe(ids)\n",
        "return annotations, ids"
      ],
      "execution_count": 0,
      "outputs": []
    }
  ]
}